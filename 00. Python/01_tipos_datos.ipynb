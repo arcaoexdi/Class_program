{
 "cells": [
  {
   "cell_type": "markdown",
   "id": "8cbf7376",
   "metadata": {},
   "source": [
    "# Tipos de datos en Python y conceptos claves\n",
    "## Tipos de datos basicos"
   ]
  },
  {
   "cell_type": "markdown",
   "id": "286245cd",
   "metadata": {},
   "source": [
    "# ___"
   ]
  },
  {
   "cell_type": "markdown",
   "id": "6f30b9a2",
   "metadata": {},
   "source": [
    "### - Dato ENTERO 🤖\n",
    "##### Es un dato que solo almacena numeros sin punto o coma, puden ser tanto pares como impares, siempre y cuando no contenga en si algun signo como punto(.) y coma(,)"
   ]
  },
  {
   "cell_type": "code",
   "execution_count": 30,
   "id": "9b43e41c",
   "metadata": {},
   "outputs": [
    {
     "name": "stdout",
     "output_type": "stream",
     "text": [
      "Este es un dato entero sin punto: 789 Donde no lleva decimales y es un numero exacto\n"
     ]
    }
   ],
   "source": [
    "# Solicitamos un dato de tipo entero para que se almacene como una variable de tipo entero\n",
    "solicitud_numero_entero = input(\"Ingrese un numero entero sin punto:\")\n",
    "# Convertimos el dato ingresado a tipo entero\n",
    "entero = int(solicitud_numero_entero)\n",
    "# Imprimimos el dato almacenado en la variable de tipo entero\n",
    "print(\"Este es un dato entero sin punto:\", entero, \"Donde no lleva decimales y es un numero exacto\")"
   ]
  },
  {
   "cell_type": "markdown",
   "id": "899498a6",
   "metadata": {},
   "source": [
    "# ___"
   ]
  },
  {
   "cell_type": "markdown",
   "id": "245cf1cd",
   "metadata": {},
   "source": [
    "### - Dato FLOTANTE 🤖\n",
    "##### Es un dato que almacena tanto datos enteros como flotantes, flotantes son aquellos que contienen numero con punto (.)"
   ]
  },
  {
   "cell_type": "code",
   "execution_count": 25,
   "id": "aee375ab",
   "metadata": {},
   "outputs": [
    {
     "name": "stdout",
     "output_type": "stream",
     "text": [
      "Este es un dato flotante:  89.9 con punto decimal\n"
     ]
    }
   ],
   "source": [
    "# Solicitamos un dato de tipo flotante para que se almence como una variable de tipo flotante\n",
    "flotante = input(\"Ingresa un numero flotante con punto, no con coma: \")\n",
    "# Convertimos el dato ingresado a tipo de dato flotante\n",
    "Conversion_flotante = float(flotante)\n",
    "# Imprimimos el dato almacenado en la variable de topo flotante\n",
    "print(\"Este es un dato flotante: \", Conversion_flotante, \"con punto decimal\")"
   ]
  },
  {
   "cell_type": "markdown",
   "id": "c55fe23a",
   "metadata": {},
   "source": [
    "# ___"
   ]
  },
  {
   "cell_type": "markdown",
   "id": "b1e07f74",
   "metadata": {},
   "source": [
    "#### - Dato CADENA DE TEXTO 🤖\n",
    "##### Es un dato que almacena solo texto, por ende se convierte en una cadena de texto"
   ]
  },
  {
   "cell_type": "code",
   "execution_count": 28,
   "id": "92ba3edd",
   "metadata": {},
   "outputs": [
    {
     "name": "stdout",
     "output_type": "stream",
     "text": [
      "Este es un dato tipo cadena proveniente de un string:  Gowwwwww 89\n"
     ]
    }
   ],
   "source": [
    "# Solicitamos un dato de tipo cadena de texto para que se almacene como una variable de tipo cadena\n",
    "cadena = input(\"Ingresa una cadena de texto: \")\n",
    "# Convertimos el dato ingresado a tipo de dato cadena con la funcion str()\n",
    "conversion_cadena = str(cadena)\n",
    "# Imorimimos el dato almacenado en la variable de tipo cadena\n",
    "print(\"Este es un dato tipo cadena proveniente de un string: \", conversion_cadena)"
   ]
  },
  {
   "cell_type": "markdown",
   "id": "3b51836e",
   "metadata": {},
   "source": [
    "# ___"
   ]
  },
  {
   "cell_type": "markdown",
   "id": "467377d0",
   "metadata": {},
   "source": [
    "#### - Dato BOOLEANO 🤖\n",
    "##### El dato booleano es aquel que solo puede tener dos valores, verdadero o falso\n",
    "##### Con base al dato, se pondera el valor booleano de la variable, veradero (True) o falso (False)"
   ]
  },
  {
   "cell_type": "code",
   "execution_count": 33,
   "id": "4b562afa",
   "metadata": {
    "vscode": {
     "languageId": "ruby"
    }
   },
   "outputs": [
    {
     "name": "stdout",
     "output_type": "stream",
     "text": [
      "Esto es falso\n"
     ]
    }
   ],
   "source": [
    "booleano = bool(True)\n",
    "# Si el dato booleano es verdadero, imprime el mensaje\n",
    "if booleano is False:\n",
    "    # Imprime el mensaje si el dato booleano es verdadero\n",
    "    print(\"Super verdadero\")\n",
    "# Si el dato booleano es falso, imprime el mensaje correspondiente\n",
    "else:\n",
    "    print(\"Esto es falso\")"
   ]
  },
  {
   "cell_type": "markdown",
   "id": "cfb1dd25",
   "metadata": {},
   "source": [
    "# ___"
   ]
  },
  {
   "cell_type": "markdown",
   "id": "7fe998a9",
   "metadata": {},
   "source": [
    "#### - Dato LISTA 🤖\n",
    "##### La lista almacena datos y las separa en comas cuando entre cada dato hay un espacio"
   ]
  },
  {
   "cell_type": "code",
   "execution_count": 36,
   "id": "b3723f8f",
   "metadata": {},
   "outputs": [
    {
     "name": "stdout",
     "output_type": "stream",
     "text": [
      "Este es un dato tipo lista: ['Dios', 'Jesus', 'EspirituSanto', 'Hombre']\n",
      "Lista actualizada: ['Dios', 'Jesus', 'EspirituSanto', 'Hombre', 'en', 'el', 'Eden']\n"
     ]
    }
   ],
   "source": [
    "# Paso 1: Pedir al usuario datos separados por espacios\n",
    "lista = input(\"Ingresa varios datos separados por espacios: \")\n",
    "\n",
    "# Paso 2: la funcion split() convierte una entrada en una lista la cual hace de los espacios separadores en comas (,) y el contenido lo agrega dentro de comillas ('')\n",
    "listas = lista.split()\n",
    "\n",
    "# Paso 3: Muetra la lista con los datos almacenados en la variable de lista, separados por comas y entre comillas cada paalabra o numero\n",
    "print(\"Este es un dato tipo lista:\", listas)\n",
    "\n",
    "# Paso 4: Permitir agregar más elementos\n",
    "agregacion_dato = input(\n",
    "    \"¿Quieres agregar otro dato? Escribe uno o varios separados por espacios: \"\n",
    ")\n",
    "# La lista se actualizado con el datos agregado, separados por comas y entre comillas cada palabra o numero\n",
    "listas += agregacion_dato.split()\n",
    "\n",
    "# Paso 5: Mostrar la lista actualizada\n",
    "print(\"Lista actualizada:\", listas)"
   ]
  },
  {
   "cell_type": "markdown",
   "id": "65e859ef",
   "metadata": {},
   "source": [
    "# ___"
   ]
  },
  {
   "cell_type": "markdown",
   "id": "8c5ed84c",
   "metadata": {},
   "source": [
    "#### - Dato DICCIONARIOS 🤖\n",
    "##### Los diccionarios, son un conjunto de datos, que al ser almacenados, se guardar como {'Clave': 'Valor'} tipo formato JSON"
   ]
  },
  {
   "cell_type": "code",
   "execution_count": 38,
   "id": "2074fa02",
   "metadata": {},
   "outputs": [
    {
     "name": "stdout",
     "output_type": "stream",
     "text": [
      "Diccionario unificado de terminos que se complementan entre si, en formato {'Clave': 'Valor'}: de la siguiente manera {'a': 'Dios', 'b': 'Jesus', 'c': 'Espitiru Santo'}\n"
     ]
    }
   ],
   "source": [
    "# Pedimos los datos y se almacenaran en las variables a, b y c\n",
    "a = input(\"Agrega una palabra o letra inicial: \")\n",
    "b = input(\"Agrega la segunda palabra o letra: \")\n",
    "c = input(\"Agrega por ultimo la ultima palabra o texto: \")\n",
    "\n",
    "# Creamos el diccionario con las variables de los datos ingresados por medio de a, b y c y son almacenados en el diccionario tipo dictado\n",
    "dictado = dict(a=a, b=b, c=c)\n",
    "\n",
    "# Imprimimos el dictado el cual es a su vez un diccionario con los datos anteriormente solicitados desde las variables a, b y c\n",
    "print(\n",
    "    \"Diccionario unificado de terminos que se complementan entre si, en formato {'Clave': 'Valor'}: de la siguiente manera\",\n",
    "    dictado,\n",
    ")\n"
   ]
  },
  {
   "cell_type": "markdown",
   "id": "cbba83e2",
   "metadata": {},
   "source": [
    "# ___"
   ]
  },
  {
   "cell_type": "markdown",
   "id": "2d8bc27f",
   "metadata": {},
   "source": [
    "#### - Dato TUPLA 🤖\n",
    "##### Los datos tipo tupla, son aquellos que se almacenan entre parentesis, dato unico y esta cada dato gurdado entre comillas (\"\") y separado por comas (,)\n"
   ]
  },
  {
   "cell_type": "code",
   "execution_count": 45,
   "id": "3b29a13d",
   "metadata": {},
   "outputs": [
    {
     "name": "stdout",
     "output_type": "stream",
     "text": [
      "Tupla con múltiples elementos: ('Hola', 'moco', 'huevo')\n"
     ]
    }
   ],
   "source": [
    "entrada = input(\"Ingresa varios datos separados por coma: \")\n",
    "solicitud_datos = tuple(entrada.split(\" \"))\n",
    "print(\"Tupla con múltiples elementos:\", solicitud_datos)\n"
   ]
  },
  {
   "cell_type": "markdown",
   "id": "643db9bf",
   "metadata": {},
   "source": [
    "# ___"
   ]
  },
  {
   "cell_type": "markdown",
   "id": "6beefe6c",
   "metadata": {},
   "source": [
    "#### - Dato CONJUNTO 🤖\n",
    "##### Los conjuntos se almacenan entre parentesis () y dentro de los parentesis, son seprados por comas y identifica los textos entre comillas dobles o siples y los numeros, sin el formato de comillas y solo se sepran los datos con comas"
   ]
  },
  {
   "cell_type": "code",
   "execution_count": 41,
   "id": "843a3d34",
   "metadata": {},
   "outputs": [
    {
     "name": "stdout",
     "output_type": "stream",
     "text": [
      "Este es un dato tipo conjunto donde esta encerrado en llaves  {1, 'Hola mundo', 789}\n"
     ]
    }
   ],
   "source": [
    "# Se almacena un conjunto de datos en diferentes formatos, dentro de una variable de tipo conjunto\n",
    "conjunto = set([1, entero, \"Hola mundo\"])\n",
    "print(\"Este es un dato tipo conjunto donde esta encerrado en llaves \", conjunto)"
   ]
  },
  {
   "cell_type": "code",
   "execution_count": null,
   "id": "ef17d85b",
   "metadata": {},
   "outputs": [],
   "source": [
    "# Operadores: Aritmeticos(+, -, *, /)\n",
    "# logicos (and, or, not), de comparacion (==, !=, >, <)\n",
    "suma = 5 + 3\n",
    "print(\"Este es el resultado de la suma \", suma)\n",
    "\n",
    "resta = 5 - 7\n",
    "print(\"Este es el resultado de la resta \", resta)\n",
    "\n",
    "multiplicacion = 5 * 3\n",
    "print(\"Este es el resultado de la multiplicacion \", multiplicacion)\n",
    "\n",
    "division = 5 / 3\n",
    "print(\"Este es el resultado de la division \", division)"
   ]
  },
  {
   "cell_type": "code",
   "execution_count": null,
   "id": "7f0dd310",
   "metadata": {},
   "outputs": [],
   "source": [
    "## Logicos\n",
    "Y = suma and resta\n",
    "print(\"Este es el resultado del operador AND \", Y)\n",
    "\n",
    "o = suma or resta\n",
    "print(\"Este es el resultado del operador OR \", o)\n",
    "\n",
    "NO = not resta\n",
    "print(\"Este es el resultado del operador NOT \", NO)\n",
    "\n",
    "## Comparacion\n",
    "igual = suma == resta\n",
    "print(\"Este es el resultado del operador de comparacion igual \", igual)\n",
    "\n",
    "diferente = suma != resta\n",
    "print(\"Este es el resultado del operador de comparacion diferente \", diferente)\n",
    "\n",
    "mayor = suma > resta\n",
    "print(\"Este es el resultado del operador de comparacion mayor \", mayor)\n",
    "\n",
    "menor = suma < resta\n",
    "print(\"Este es el resultado del operador de comparacion menor \", menor)"
   ]
  },
  {
   "cell_type": "code",
   "execution_count": null,
   "id": "a5e979ec",
   "metadata": {},
   "outputs": [],
   "source": [
    "## Funciones\n",
    "def saludar(nombre):\n",
    "    print(\"Saludando a:\", nombre)\n",
    "    return f\"Hola, {nombre}\"\n",
    "\n",
    "\n",
    "### Uso de la funcion Saludar\n",
    "saludo = saludar(input(\"Ingrese su nombre: \"))\n",
    "print(saludo)\n",
    "\n",
    "\n",
    "def parametros(nombre=\"Mundo\"):\n",
    "    return f\"Hola, {nombre}\"\n",
    "\n",
    "\n",
    "def retorno(objeto):\n",
    "    return print(objeto)"
   ]
  },
  {
   "cell_type": "code",
   "execution_count": null,
   "id": "7e893d7b",
   "metadata": {},
   "outputs": [],
   "source": [
    "## MAnejo de errores\n",
    "try:\n",
    "    resultado = 10 / 0\n",
    "except ZeroDivisionError:\n",
    "    resultado = \"Error: Division por cero\"\n",
    "finally:\n",
    "    print(\"Ejecucion finalizada\")\n",
    "\n",
    "## Modularidad\n",
    "import math as m  # noqa: E402\n",
    "\n",
    "raiz_cuadrada = m.sqrt(16)\n"
   ]
  },
  {
   "cell_type": "code",
   "execution_count": null,
   "id": "11c4a98f",
   "metadata": {},
   "outputs": [],
   "source": [
    "## Condicionales\n",
    "# IF - ELSE - ELIF\n",
    "if suma > resta:\n",
    "    resultado1 = \"Suma es mayor\"\n",
    "    print(\"Si es mayor, imprime esto\", resultado1)\n",
    "elif suma < resta:\n",
    "    resultado2 = \"Resta es mayor\"\n",
    "    print(\"Si es menor, imprime esto\", resultado2)\n",
    "else:\n",
    "    resultado3 = \"Son iguales\"\n",
    "    print(\"Si son iguales, imprime esto\", resultado3)\n",
    "\n",
    "## Bucles\n",
    "# FOR\n",
    "for i in range(5):\n",
    "    print(\"Iteracion sobre el numero 5: \", i)\n",
    "\n",
    "# WHILE\n",
    "contador = 0\n",
    "while contador < 5:\n",
    "    print(\"Iterar sobre un contador que da como resultado: \", contador)\n",
    "    contador += 1\n",
    "    if contador == 5:\n",
    "        print(\"Contador ha llegado a 5, saliendo del bucle\")\n",
    "        break\n"
   ]
  },
  {
   "cell_type": "code",
   "execution_count": null,
   "id": "4af8443a",
   "metadata": {},
   "outputs": [],
   "source": []
  },
  {
   "cell_type": "code",
   "execution_count": null,
   "id": "8f3a3d14",
   "metadata": {},
   "outputs": [],
   "source": []
  }
 ],
 "metadata": {
  "kernelspec": {
   "display_name": "Python 3",
   "language": "python",
   "name": "python3"
  },
  "language_info": {
   "codemirror_mode": {
    "name": "ipython",
    "version": 3
   },
   "file_extension": ".py",
   "mimetype": "text/x-python",
   "name": "python",
   "nbconvert_exporter": "python",
   "pygments_lexer": "ipython3",
   "version": "3.11.9"
  }
 },
 "nbformat": 4,
 "nbformat_minor": 5
}
