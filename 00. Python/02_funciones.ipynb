{
 "cells": [
  {
   "cell_type": "markdown",
   "id": "d77917c3",
   "metadata": {},
   "source": [
    "# Tipos de datos en Python y conceptos claves\n",
    "## Tipos de datos basicos"
   ]
  },
  {
   "cell_type": "markdown",
   "id": "64d5c7b5",
   "metadata": {},
   "source": [
    "___"
   ]
  },
  {
   "cell_type": "markdown",
   "id": "21c0291d",
   "metadata": {},
   "source": [
    "### - Dato FUNCIONES ... 🤖\n",
    "#### 🧪 Anatomía de una función\n",
    "###### def → palabra clave para definir funciones\n",
    "###### nombre_funcion → identificador\n",
    "###### param1, param2 → parámetros de entrada\n",
    "###### return → salida de la función"
   ]
  },
  {
   "cell_type": "code",
   "execution_count": 1,
   "id": "95181102",
   "metadata": {},
   "outputs": [
    {
     "name": "stdout",
     "output_type": "stream",
     "text": [
      "El resultado de la función es: (6, 6, 8)\n"
     ]
    }
   ],
   "source": [
    "def nombre_funcion(param1, param2, param3):\n",
    "    # lógica interna\n",
    "    resultado = param1 * 2, param2 * 2, param3 * 2\n",
    "    return resultado\n",
    "\n",
    "numero1 = int(input(\"Ingresa el primer número: \"))\n",
    "numero2 = int(input(\"Ingresa el segundo número: \"))\n",
    "numero3 = int(input(\"Ingresa el tercer número: \"))\n",
    "\n",
    "nombre = nombre_funcion(numero1, numero2, numero3)\n",
    "print(\"El resultado de la función es:\", nombre)\n"
   ]
  },
  {
   "cell_type": "markdown",
   "id": "615446db",
   "metadata": {},
   "source": [
    "____\n",
    "#### 🧪 Variación 1: función con condicionales\n",
    "###### 🔍 Aquí aplicamos lógica condicional dentro de la función."
   ]
  },
  {
   "cell_type": "code",
   "execution_count": 2,
   "id": "f32c31cc",
   "metadata": {},
   "outputs": [
    {
     "name": "stdout",
     "output_type": "stream",
     "text": [
      "Resultado: Positivo\n"
     ]
    }
   ],
   "source": [
    "def evaluar_numero(numero):\n",
    "    if numero > 0:\n",
    "        return \"Positivo\"\n",
    "    elif numero < 0:\n",
    "        return \"Negativo\"\n",
    "    else:\n",
    "        return \"Cero\"\n",
    "\n",
    "valor = int(input(\"Ingresa un número: \"))\n",
    "print(\"Resultado:\", evaluar_numero(valor))\n"
   ]
  },
  {
   "cell_type": "markdown",
   "id": "607191c0",
   "metadata": {},
   "source": [
    "____\n",
    "#### 🧩 Variación 2: función que retorna un diccionario\n",
    "###### 🔧 Ideal para estructurar salidas complejas y documentar resultados."
   ]
  },
  {
   "cell_type": "code",
   "execution_count": 6,
   "id": "136800fc",
   "metadata": {},
   "outputs": [
    {
     "name": "stdout",
     "output_type": "stream",
     "text": [
      "❌ Entrada inválida: escribe solo números enteros sin letras ni símbolos.\n",
      "❌ Entrada inválida: escribe solo números enteros sin letras ni símbolos.\n",
      "❌ Entrada inválida: escribe solo números enteros sin letras ni símbolos.\n",
      "✅ Análisis: {'valor': 87, 'par': False, 'positivo': True, 'tipo': 'int'}\n"
     ]
    }
   ],
   "source": [
    "def analizar_numero(n):\n",
    "    return {\n",
    "        \"valor\": n,\n",
    "        \"par\": n % 2 == 0,\n",
    "        \"positivo\": n > 0,\n",
    "        \"tipo\": type(n).__name__\n",
    "    }\n",
    "\n",
    "while True:\n",
    "    entrada = input(\"Ingresa un número: \")\n",
    "    try:\n",
    "        dato = int(entrada)\n",
    "        resultado = analizar_numero(dato)\n",
    "        print(\"✅ Análisis:\", resultado)\n",
    "        break  # Salimos del bucle si todo fue correcto\n",
    "    except ValueError:\n",
    "        print(\"❌ Entrada inválida: escribe solo números enteros sin letras ni símbolos.\")\n"
   ]
  },
  {
   "cell_type": "markdown",
   "id": "d54454d5",
   "metadata": {},
   "source": [
    "___"
   ]
  },
  {
   "cell_type": "markdown",
   "id": "2d8b24b3",
   "metadata": {},
   "source": [
    "#### 🧩 Categorias y ejemplos practicos\n",
    "##### 1. 📤 Entrada y salida\n",
    "###### Muestra datos en pantalla print()"
   ]
  },
  {
   "cell_type": "code",
   "execution_count": 9,
   "id": "5b590adb",
   "metadata": {},
   "outputs": [
    {
     "name": "stdout",
     "output_type": "stream",
     "text": [
      "hol a - como - estas\n",
      "None\n"
     ]
    }
   ],
   "source": [
    "ingreso = print(input(\"Ingresa un texto: \"))  # Salida: Hola, Arca\n",
    "print(ingreso, sep=\" - \")  # Salida: Python - es - genial"
   ]
  },
  {
   "cell_type": "markdown",
   "id": "35856bcd",
   "metadata": {},
   "source": [
    "###### Reciben datos de usuario input()"
   ]
  },
  {
   "cell_type": "code",
   "execution_count": 10,
   "id": "f70f1365",
   "metadata": {},
   "outputs": [
    {
     "name": "stdout",
     "output_type": "stream",
     "text": [
      "Bienvenido, Sebastian Miranda Forigua\n"
     ]
    }
   ],
   "source": [
    "nombre = input(\"¿Cómo te llamas? \")\n",
    "print(\"Bienvenido,\", nombre)"
   ]
  },
  {
   "cell_type": "markdown",
   "id": "393c22f1",
   "metadata": {},
   "source": [
    "___"
   ]
  },
  {
   "cell_type": "markdown",
   "id": "1dc47aa7",
   "metadata": {},
   "source": [
    "##### 2. 📤 Funciones numericas\n",
    "###### Devuelve el valor absoluto abs()"
   ]
  },
  {
   "cell_type": "code",
   "execution_count": 11,
   "id": "cb640a31",
   "metadata": {},
   "outputs": [
    {
     "name": "stdout",
     "output_type": "stream",
     "text": [
      "5\n"
     ]
    }
   ],
   "source": [
    "print(abs(-5))  # Salida: 5"
   ]
  },
  {
   "cell_type": "markdown",
   "id": "bdacf5f8",
   "metadata": {},
   "source": [
    "###### Redondea el numero"
   ]
  },
  {
   "cell_type": "code",
   "execution_count": 22,
   "id": "844ea303",
   "metadata": {},
   "outputs": [
    {
     "name": "stdout",
     "output_type": "stream",
     "text": [
      "86803535.90133725\n"
     ]
    }
   ],
   "source": [
    "numero1 = float(input(\"Ingresa un número: \"))\n",
    "numero2 = float(input(\"Ingresa otro número: \"))\n",
    "multiplicacion = numero1 * numero2\n",
    "print(round(multiplicacion, 9))  # Redondea a 2 decimales"
   ]
  },
  {
   "cell_type": "markdown",
   "id": "a485d047",
   "metadata": {},
   "source": [
    "###### Potencia: pow(base, exponente)"
   ]
  },
  {
   "cell_type": "code",
   "execution_count": 7,
   "id": "77c5e939",
   "metadata": {},
   "outputs": [
    {
     "name": "stdout",
     "output_type": "stream",
     "text": [
      "8\n"
     ]
    }
   ],
   "source": [
    "print(pow(2, 3))  # Salida: 8"
   ]
  },
  {
   "cell_type": "markdown",
   "id": "8aa7574d",
   "metadata": {},
   "source": [
    "___"
   ]
  },
  {
   "cell_type": "markdown",
   "id": "11877b89",
   "metadata": {},
   "source": [
    "##### 🔰 Funcion sin parametro"
   ]
  },
  {
   "cell_type": "code",
   "execution_count": 24,
   "id": "ccb340df",
   "metadata": {},
   "outputs": [
    {
     "name": "stdout",
     "output_type": "stream",
     "text": [
      "Hola, mundo\n"
     ]
    }
   ],
   "source": [
    "def saludar():\n",
    "    print(\"Hola, mundo\")\n",
    "    \n",
    "saludar()  # Llamada a la función"
   ]
  },
  {
   "cell_type": "markdown",
   "id": "a8320a94",
   "metadata": {},
   "source": [
    "##### 🔰 Funcion con parametros posicionales"
   ]
  },
  {
   "cell_type": "code",
   "execution_count": 27,
   "id": "1f3d4dde",
   "metadata": {},
   "outputs": [
    {
     "name": "stdout",
     "output_type": "stream",
     "text": [
      "La suma es: 181\n"
     ]
    }
   ],
   "source": [
    "def sumar(a, b):\n",
    "    return a + b\n",
    "\n",
    "ingreso_num1 = float(input(\"Ingresa el primer número: \"))\n",
    "ingreso_num2 = float(input(\"Ingresa el segundo número: \"))\n",
    "resultado = sumar(ingreso_num1, ingreso_num2)\n",
    "print(\"La suma es:\", round(resultado))"
   ]
  },
  {
   "cell_type": "markdown",
   "id": "a00b13e0",
   "metadata": {},
   "source": [
    "___"
   ]
  },
  {
   "cell_type": "markdown",
   "id": "16ae901d",
   "metadata": {},
   "source": [
    "##### 🔹 3. Parámetros con valores por defecto\n",
    "###### 📌 Si no se pasa argumento, usa el valor por defecto."
   ]
  },
  {
   "cell_type": "code",
   "execution_count": 32,
   "id": "0c499db2",
   "metadata": {},
   "outputs": [
    {
     "name": "stdout",
     "output_type": "stream",
     "text": [
      "Hola, Wanda\n",
      "None\n"
     ]
    }
   ],
   "source": [
    "def saludar(nombre=input(\"¿Cómo te llamas? \")):\n",
    "    print(f\"Hola, {nombre}\")\n",
    "    \n",
    "print(saludar())"
   ]
  },
  {
   "cell_type": "markdown",
   "id": "1336ca52",
   "metadata": {},
   "source": [
    "##### 🔹 4. Parámetros con nombre (keyword arguments)\n",
    "###### 📌 Puedes cambiar el orden si usas nombres explícitos."
   ]
  },
  {
   "cell_type": "code",
   "execution_count": 35,
   "id": "64e019cf",
   "metadata": {},
   "outputs": [
    {
     "name": "stdout",
     "output_type": "stream",
     "text": [
      "Arca tiene 30 años\n"
     ]
    }
   ],
   "source": [
    "def presentar(nombre, edad):\n",
    "    print(f\"{nombre} tiene {edad} años\")\n",
    "\n",
    "presentar(edad=30, nombre=\"Arca\")"
   ]
  },
  {
   "cell_type": "markdown",
   "id": "e433c59b",
   "metadata": {},
   "source": [
    "___"
   ]
  },
  {
   "cell_type": "markdown",
   "id": "dc1bb346",
   "metadata": {},
   "source": [
    "##### 🔹 5. Parámetros variables: *args\n",
    "###### 📌 Recibe cualquier cantidad de argumentos como tupla."
   ]
  },
  {
   "cell_type": "code",
   "execution_count": 38,
   "id": "cf4a00e4",
   "metadata": {},
   "outputs": [
    {
     "name": "stdout",
     "output_type": "stream",
     "text": [
      "La suma total es: 89.0\n"
     ]
    }
   ],
   "source": [
    "def sumar_todo(*numeros):\n",
    "    return sum(numeros)\n",
    "\n",
    "entrada = input(\"Ingresa los números separados por espacio: \")  # Ejemplo: 2 3 5\n",
    "numeros = [float(n) for n in entrada.split()]\n",
    "resultado = sumar_todo(*numeros)\n",
    "print(\"La suma total es:\", round(resultado, 10))"
   ]
  },
  {
   "cell_type": "markdown",
   "id": "82dff046",
   "metadata": {},
   "source": [
    "##### 🔹 6. Parámetros variables con nombre: **kwargs\n",
    "###### 📌 Recibe argumentos con nombre como diccionario."
   ]
  },
  {
   "cell_type": "code",
   "execution_count": 39,
   "id": "9e171d5e",
   "metadata": {},
   "outputs": [
    {
     "name": "stdout",
     "output_type": "stream",
     "text": [
      "nombre: Arca\n",
      "lenguaje: Python\n",
      "nivel: Avanzado\n"
     ]
    }
   ],
   "source": [
    "def mostrar_info(**datos):\n",
    "    for clave, valor in datos.items():\n",
    "        print(f\"{clave}: {valor}\")\n",
    "\n",
    "mostrar_info(nombre=\"Arca\", lenguaje=\"Python\", nivel=\"Avanzado\")\n"
   ]
  },
  {
   "cell_type": "markdown",
   "id": "5828fbc8",
   "metadata": {},
   "source": [
    "##### 🔹 7. Función que retorna múltiples valores\n",
    "###### 📌 Muy útil para análisis estructurado."
   ]
  },
  {
   "cell_type": "code",
   "execution_count": 45,
   "id": "8c930ee9",
   "metadata": {},
   "outputs": [
    {
     "name": "stdout",
     "output_type": "stream",
     "text": [
      "Valor: -88, Par: True, Positivo: False\n"
     ]
    }
   ],
   "source": [
    "def analizar(n):\n",
    "    return n, n % 2 == 0, n > 0\n",
    "\n",
    "entrada = input(\"Ingresa un número: \")\n",
    "\n",
    "try:\n",
    "    numero = int(entrada)\n",
    "    valor, es_par, es_positivo = analizar(numero)\n",
    "    print(f\"Valor: {valor}, Par: {es_par}, Positivo: {es_positivo}\")\n",
    "except ValueError:\n",
    "    print(\"❌ Entrada inválida: por favor ingresa un número entero.\")\n"
   ]
  },
  {
   "cell_type": "markdown",
   "id": "8c2a5476",
   "metadata": {},
   "source": [
    "##### 🔹 8. Función anónima: lambda\n",
    "###### 📌 Ideal para funciones simples y rápidas."
   ]
  },
  {
   "cell_type": "code",
   "execution_count": 46,
   "id": "dadac94c",
   "metadata": {},
   "outputs": [
    {
     "name": "stdout",
     "output_type": "stream",
     "text": [
      "8\n"
     ]
    }
   ],
   "source": [
    "doble = lambda x: x * 2\n",
    "print(doble(4))  # Salida: 8"
   ]
  },
  {
   "cell_type": "markdown",
   "id": "539b0209",
   "metadata": {},
   "source": [
    "##### 🔹 9. Función como argumento\n",
    "###### 📌 Te permite pasar lógica como parámetro."
   ]
  },
  {
   "cell_type": "code",
   "execution_count": 49,
   "id": "ab7c08e2",
   "metadata": {},
   "outputs": [
    {
     "name": "stdout",
     "output_type": "stream",
     "text": [
      "49\n"
     ]
    }
   ],
   "source": [
    "def aplicar(funcion, valor):\n",
    "    return funcion(valor)\n",
    "\n",
    "print(aplicar(lambda x: x**2, 7))  # Salida: 25"
   ]
  },
  {
   "cell_type": "markdown",
   "id": "e349758e",
   "metadata": {},
   "source": [
    "##### 🔹 10. Función con validación interna\n",
    "###### 📌 Siempre valida antes de operar."
   ]
  },
  {
   "cell_type": "code",
   "execution_count": 51,
   "id": "61da350a",
   "metadata": {},
   "outputs": [
    {
     "name": "stdout",
     "output_type": "stream",
     "text": [
      "La suma es: 188.88\n"
     ]
    }
   ],
   "source": [
    "def sumar(a, b):\n",
    "    return a + b\n",
    "\n",
    "ingreso_num1 = float(input(\"Ingresa el primer número: \"))\n",
    "ingreso_num2 = float(input(\"Ingresa el segundo número: \"))\n",
    "resultado = sumar(ingreso_num1, ingreso_num2)\n",
    "\n",
    "print(\"La suma es:\", round(resultado, 2))\n"
   ]
  },
  {
   "cell_type": "code",
   "execution_count": null,
   "id": "f55239cf",
   "metadata": {},
   "outputs": [],
   "source": []
  }
 ],
 "metadata": {
  "kernelspec": {
   "display_name": "Python 3",
   "language": "python",
   "name": "python3"
  },
  "language_info": {
   "codemirror_mode": {
    "name": "ipython",
    "version": 3
   },
   "file_extension": ".py",
   "mimetype": "text/x-python",
   "name": "python",
   "nbconvert_exporter": "python",
   "pygments_lexer": "ipython3",
   "version": "3.11.9"
  }
 },
 "nbformat": 4,
 "nbformat_minor": 5
}
