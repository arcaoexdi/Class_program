{
 "cells": [
  {
   "cell_type": "markdown",
   "id": "d77917c3",
   "metadata": {},
   "source": [
    "# Tipos de datos en Python y conceptos claves\n",
    "## Tipos de datos basicos"
   ]
  },
  {
   "cell_type": "markdown",
   "id": "64d5c7b5",
   "metadata": {},
   "source": [
    "___"
   ]
  },
  {
   "cell_type": "markdown",
   "id": "21c0291d",
   "metadata": {},
   "source": [
    "### - Dato FUNCIONES ... 🤖\n",
    "#### 🧪 Anatomía de una función\n",
    "###### def → palabra clave para definir funciones\n",
    "###### nombre_funcion → identificador\n",
    "###### param1, param2 → parámetros de entrada\n",
    "###### return → salida de la función"
   ]
  },
  {
   "cell_type": "code",
   "execution_count": 4,
   "id": "95181102",
   "metadata": {},
   "outputs": [
    {
     "name": "stdout",
     "output_type": "stream",
     "text": [
      "El resultado de la función es: (4, 4, 4)\n"
     ]
    }
   ],
   "source": [
    "def nombre_funcion(param1, param2, param3):\n",
    "    # lógica interna\n",
    "    resultado = param1 * 2, param2 * 2, param3 * 2\n",
    "    return resultado\n",
    "\n",
    "numero1 = int(input(\"Ingresa el primer número: \"))\n",
    "numero2 = int(input(\"Ingresa el segundo número: \"))\n",
    "numero3 = int(input(\"Ingresa el tercer número: \"))\n",
    "\n",
    "nombre = nombre_funcion(numero1, numero2, numero3)\n",
    "print(\"El resultado de la función es:\", nombre)\n"
   ]
  },
  {
   "cell_type": "markdown",
   "id": "615446db",
   "metadata": {},
   "source": [
    "____\n",
    "#### 🧪 Variación 1: función con condicionales\n",
    "###### 🔍 Aquí aplicamos lógica condicional dentro de la función."
   ]
  },
  {
   "cell_type": "code",
   "execution_count": 7,
   "id": "f32c31cc",
   "metadata": {},
   "outputs": [
    {
     "name": "stdout",
     "output_type": "stream",
     "text": [
      "Resultado: Cero\n"
     ]
    }
   ],
   "source": [
    "def evaluar_numero(numero):\n",
    "    if numero > 0:\n",
    "        return \"Positivo\"\n",
    "    elif numero < 0:\n",
    "        return \"Negativo\"\n",
    "    else:\n",
    "        return \"Cero\"\n",
    "\n",
    "valor = int(input(\"Ingresa un número: \"))\n",
    "print(\"Resultado:\", evaluar_numero(valor))\n"
   ]
  },
  {
   "cell_type": "markdown",
   "id": "607191c0",
   "metadata": {},
   "source": [
    "____\n",
    "#### 🧩 Variación 2: función que retorna un diccionario\n",
    "###### 🔧 Ideal para estructurar salidas complejas y documentar resultados."
   ]
  },
  {
   "cell_type": "code",
   "execution_count": 15,
   "id": "136800fc",
   "metadata": {},
   "outputs": [
    {
     "name": "stdout",
     "output_type": "stream",
     "text": [
      "❌ Entrada inválida: escribe solo números enteros sin letras ni símbolos.\n",
      "❌ Entrada inválida: escribe solo números enteros sin letras ni símbolos.\n",
      "✅ Análisis: {'valor': 89, 'par': False, 'positivo': True, 'tipo': 'int'}\n"
     ]
    }
   ],
   "source": [
    "def analizar_numero(n):\n",
    "    return {\n",
    "        \"valor\": n,\n",
    "        \"par\": n % 2 == 0,\n",
    "        \"positivo\": n > 0,\n",
    "        \"tipo\": type(n).__name__\n",
    "    }\n",
    "\n",
    "while True:\n",
    "    entrada = input(\"Ingresa un número: \")\n",
    "    try:\n",
    "        dato = int(entrada)\n",
    "        resultado = analizar_numero(dato)\n",
    "        print(\"✅ Análisis:\", resultado)\n",
    "        break  # Salimos del bucle si todo fue correcto\n",
    "    except ValueError:\n",
    "        print(\"❌ Entrada inválida: escribe solo números enteros sin letras ni símbolos.\")\n"
   ]
  },
  {
   "cell_type": "code",
   "execution_count": null,
   "id": "c21d289a",
   "metadata": {},
   "outputs": [],
   "source": []
  }
 ],
 "metadata": {
  "kernelspec": {
   "display_name": "Python 3",
   "language": "python",
   "name": "python3"
  },
  "language_info": {
   "codemirror_mode": {
    "name": "ipython",
    "version": 3
   },
   "file_extension": ".py",
   "mimetype": "text/x-python",
   "name": "python",
   "nbconvert_exporter": "python",
   "pygments_lexer": "ipython3",
   "version": "3.11.9"
  }
 },
 "nbformat": 4,
 "nbformat_minor": 5
}
