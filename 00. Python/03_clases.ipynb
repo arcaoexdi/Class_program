{
 "cells": [
  {
   "cell_type": "markdown",
   "id": "3c0ba545",
   "metadata": {},
   "source": [
    "# ¿ Que es una Clase?\n",
    "#### Una clase es una plantilla para crear objetos. Define atributos (datos) y métodos (comportamientos)."
   ]
  },
  {
   "cell_type": "code",
   "execution_count": 1,
   "id": "96b8d86f",
   "metadata": {},
   "outputs": [],
   "source": [
    "class Persona:\n",
    "    def __init__(self, nombre, edad): # __init_ es el constructor que funciona al crear una instancia\n",
    "        self.nombre = nombre # self es una referencia al objeto actual\n",
    "        self.edad = edad\n",
    "\n",
    "    def saludar(self):\n",
    "        return f\"Hola, soy {self.nombre} y tengo {self.edad} años.\"\n"
   ]
  },
  {
   "cell_type": "markdown",
   "id": "873fa922",
   "metadata": {},
   "source": [
    "___"
   ]
  },
  {
   "cell_type": "markdown",
   "id": "b4061f05",
   "metadata": {},
   "source": [
    "### 🧪 2. Crear una instancia (objeto)"
   ]
  },
  {
   "cell_type": "code",
   "execution_count": 3,
   "id": "27dc58b7",
   "metadata": {},
   "outputs": [
    {
     "name": "stdout",
     "output_type": "stream",
     "text": [
      "Hola, soy Santiago y tengo 89 años.\n"
     ]
    }
   ],
   "source": [
    "name = input(\"Ingrese el nombre de la persona: \")\n",
    "date = int(input(\"Ingrese la edad de la persona: \"))\n",
    "\n",
    "persona_guardada = Persona(name, date)\n",
    "print(persona_guardada.saludar())"
   ]
  },
  {
   "cell_type": "markdown",
   "id": "8ab523b2",
   "metadata": {},
   "source": [
    "___"
   ]
  },
  {
   "cell_type": "markdown",
   "id": "a2a7c09e",
   "metadata": {},
   "source": [
    "### 🔍 3. Atributos y métodos\n",
    "#### Atributos: variables internas del objeto (self.nombre)\n",
    "\n",
    "#### Métodos: funciones internas que operan sobre el objeto (saludar())"
   ]
  },
  {
   "cell_type": "markdown",
   "id": "bce44b57",
   "metadata": {},
   "source": [
    "___"
   ]
  },
  {
   "cell_type": "markdown",
   "id": "15550fd5",
   "metadata": {},
   "source": [
    "### 🧬 4. Métodos especiales (__init__, __str__, __repr__)"
   ]
  },
  {
   "cell_type": "markdown",
   "id": "436745a5",
   "metadata": {},
   "source": [
    "##### 🧸 1. __init__: El nacimiento del objeto\n",
    "###### Este motodo es como el momento en que nace tu juguete. Tú decides como será: Que nombre tendrá, que color, que tamaño. Cada vez que creas un nuevo juguete (objeto,) __init___ se activa automaticamente"
   ]
  },
  {
   "cell_type": "code",
   "execution_count": 5,
   "id": "26b6a38a",
   "metadata": {},
   "outputs": [],
   "source": [
    "class Juguete:\n",
    "    def __init__(self, nombre, color):\n",
    "        self.nombre = nombre\n",
    "        self.color = color\n",
    "\n",
    "    def __str__(self):\n",
    "        return f\"Tienes el juguete {self.nombre}, y es de color 📚{self.color}\""
   ]
  },
  {
   "cell_type": "markdown",
   "id": "ee3516c9",
   "metadata": {},
   "source": [
    "###### Cuando haces esto:"
   ]
  },
  {
   "cell_type": "code",
   "execution_count": 6,
   "id": "f515dd92",
   "metadata": {},
   "outputs": [
    {
     "name": "stdout",
     "output_type": "stream",
     "text": [
      "Tienes el juguete Max Tell, y es de color 📚Azul\n"
     ]
    }
   ],
   "source": [
    "nombre_juguete = input(\"Ingrese el nombre del juguete: \")\n",
    "color_juguete = input(\"Ingrese el color del juguete: \")\n",
    "\n",
    "mi_juguete = Juguete(nombre_juguete, color_juguete)\n",
    "print(mi_juguete)"
   ]
  },
  {
   "cell_type": "markdown",
   "id": "82039cbc",
   "metadata": {},
   "source": [
    "###### ➡️ Python llama a __init__ y guarda nombre_juguete=\"Robot\" y color_juguete=\"Rojo\" dentro del objeto."
   ]
  },
  {
   "cell_type": "markdown",
   "id": "f3c73964",
   "metadata": {},
   "source": [
    "___"
   ]
  },
  {
   "cell_type": "markdown",
   "id": "5b28ef5e",
   "metadata": {},
   "source": [
    "##### 🗣️ 2. __str__: Cómo se presenta al mundo\n",
    "###### Este método es como si el juguete hablara para presentarse. Cuando tú haces print(mi_juguete), Python pregunta: “¿Cómo quieres que se vea este objeto?” Y __str__ responde con una frase bonita."
   ]
  },
  {
   "cell_type": "code",
   "execution_count": null,
   "id": "dbb32f35",
   "metadata": {},
   "outputs": [
    {
     "name": "stdout",
     "output_type": "stream",
     "text": [
      "Soy un Roco de color Verde\n"
     ]
    }
   ],
   "source": [
    "class Juguete:\n",
    "    def __init__(self, nombre, color):\n",
    "        self.nombre = nombre\n",
    "        self.color = color\n",
    "\n",
    "    def __str__(self):\n",
    "        return f\"Soy un {self.nombre} de color {self.color}\"\n",
    "    \n",
    "juguete = input(\"¿Qué juguete quieres? \")\n",
    "color_juguete = input(\"¿De qué color? \")"
   ]
  },
  {
   "cell_type": "markdown",
   "id": "c40eef30",
   "metadata": {},
   "source": [
    "###### ➡️ Si haces print(mi_juguete), verás:"
   ]
  },
  {
   "cell_type": "code",
   "execution_count": 9,
   "id": "2d5b6850",
   "metadata": {},
   "outputs": [
    {
     "name": "stdout",
     "output_type": "stream",
     "text": [
      "Soy un Roco de color Verde\n"
     ]
    }
   ],
   "source": [
    "mi_juguete = Juguete(juguete, color_juguete)\n",
    "print(mi_juguete)"
   ]
  },
  {
   "cell_type": "markdown",
   "id": "85808272",
   "metadata": {},
   "source": [
    "___"
   ]
  },
  {
   "cell_type": "markdown",
   "id": "5864efa6",
   "metadata": {},
   "source": [
    "##### 🧑‍🔬 3. __repr__: Cómo se ve para los programadores\n",
    "###### Este método es como si el juguete hablara para presentarse. Cuando tú haces print(mi_juguete), Python pregunta: “¿Cómo quieres que se vea este objeto?” Y __str__ responde con una frase bonita."
   ]
  },
  {
   "cell_type": "code",
   "execution_count": 34,
   "id": "d2dcbffd",
   "metadata": {},
   "outputs": [],
   "source": [
    "class Juguete:\n",
    "    def __init__(self, nombre, color):\n",
    "        self.nombre = nombre\n",
    "        self.color = color\n",
    "\n",
    "    def __repr__(self):\n",
    "        return f\"Juguete: ({self.nombre!r}), color: ({self.color!r})\""
   ]
  },
  {
   "cell_type": "markdown",
   "id": "6c4471ed",
   "metadata": {},
   "source": [
    "###### ➡️ Si escribes solo mi_juguete en una celda de notebook, verás:"
   ]
  },
  {
   "cell_type": "code",
   "execution_count": 35,
   "id": "5229ce11",
   "metadata": {},
   "outputs": [
    {
     "data": {
      "text/plain": [
       "Juguete: ('Maxtell'), color: ('Blue')"
      ]
     },
     "execution_count": 35,
     "metadata": {},
     "output_type": "execute_result"
    }
   ],
   "source": [
    "Juguete(\"Maxtell\", \"Blue\")"
   ]
  },
  {
   "cell_type": "markdown",
   "id": "5977bb0c",
   "metadata": {},
   "source": [
    "___"
   ]
  },
  {
   "cell_type": "markdown",
   "id": "a3d837ec",
   "metadata": {},
   "source": [
    "### 🧠 5. Herencia\n",
    "#### Permite crear clases que extienden otras."
   ]
  },
  {
   "cell_type": "code",
   "execution_count": 36,
   "id": "03604cc7",
   "metadata": {},
   "outputs": [],
   "source": [
    "class JugueteSonoro(Juguete):\n",
    "    def __init__(self, nombre, color, sonido):\n",
    "        super().__init__(nombre, color)  # ✅ Llama al constructor del padre\n",
    "        self.sonido = sonido\n",
    "\n",
    "    def reproducir_sonido(self):\n",
    "        return f\"{self.nombre} hace: {self.sonido}\""
   ]
  },
  {
   "cell_type": "markdown",
   "id": "3ca8c13d",
   "metadata": {},
   "source": [
    "###### Hacemos uso de las propiedades de la clase JugueteSonoro la cual hace instancia de la Clase Juguete"
   ]
  },
  {
   "cell_type": "code",
   "execution_count": 43,
   "id": "eb30fc55",
   "metadata": {},
   "outputs": [
    {
     "name": "stdout",
     "output_type": "stream",
     "text": [
      "El  toro es de color  muuuu y hace  muuuu\n"
     ]
    }
   ],
   "source": [
    "tipo_animal = input(\"¿Qué tipo de animal es el juguete? \")\n",
    "color_animal = input(\"¿Que color tiene el animal? \")\n",
    "sonido_animal = input(\"¿Qué sonido hace el juguete? \")\n",
    "\n",
    "esjuguete = JugueteSonoro(tipo_animal, color_animal, sonido_animal)\n",
    "print(\"El \", tipo_animal, \"es de color \", color_animal, \"y hace \",  esjuguete.sonido)"
   ]
  },
  {
   "cell_type": "markdown",
   "id": "d80f0c98",
   "metadata": {},
   "source": [
    "___"
   ]
  },
  {
   "cell_type": "markdown",
   "id": "db1f4b29",
   "metadata": {},
   "source": [
    "#### 🧰 6. Métodos de clase y estáticos\n",
    "\n",
    "##### ➡️ ¿Que es un metodo estatic?\n",
    "###### Un mentodo estatico, es una funcion dentro de una clase que:\n",
    "###### - No usa self (no accede a atributos del objeto)\n",
    "###### - No usa cls (no accede a atributos de la clase)\n",
    "###### - Se define con el decorador @staticmethod\n",
    "###### - Se puede llamar directamente desde la clase"
   ]
  },
  {
   "cell_type": "code",
   "execution_count": 48,
   "id": "5d885c13",
   "metadata": {},
   "outputs": [
    {
     "name": "stdout",
     "output_type": "stream",
     "text": [
      "12\n",
      "Soy una calculadora\n"
     ]
    }
   ],
   "source": [
    "class Calculadora:\n",
    "    @staticmethod\n",
    "    def sumar(a, b):\n",
    "        return a + b\n",
    "\n",
    "    @classmethod\n",
    "    def identidad(cls):\n",
    "        return \"Soy una calculadora\"\n",
    "    \n",
    "print(Calculadora.sumar(5, 7))\n",
    "print(Calculadora.identidad())"
   ]
  },
  {
   "cell_type": "markdown",
   "id": "2404898a",
   "metadata": {},
   "source": [
    "##### ➡️ ¿Cuando usar @staticmethod?\n",
    "###### - Cuando la funcion no necesita acceder a los atributos del objeto ni de la clase\n",
    "###### - Para organizar funciones relacionadas dentro de una clase\n",
    "###### - Para evitar instancias innecesarias"
   ]
  },
  {
   "cell_type": "markdown",
   "id": "db84ef09",
   "metadata": {},
   "source": [
    "___"
   ]
  },
  {
   "cell_type": "markdown",
   "id": "dc483c3a",
   "metadata": {},
   "source": [
    "#### 🧪 7. Encapsulamiento"
   ]
  },
  {
   "cell_type": "code",
   "execution_count": 8,
   "id": "6c7fa121",
   "metadata": {},
   "outputs": [],
   "source": [
    "class Cuenta:\n",
    "    def __init__(self, saldo):\n",
    "        self.__saldo = saldo  # atributo privado\n",
    "\n",
    "    def mostrar_saldo(self):\n",
    "        return self.__saldo"
   ]
  },
  {
   "cell_type": "markdown",
   "id": "1cd87d57",
   "metadata": {},
   "source": [
    "___"
   ]
  },
  {
   "cell_type": "markdown",
   "id": "034ee99b",
   "metadata": {},
   "source": [
    "#### 🧩 8. Composición\n",
    "##### Una clase puede contener objetos de otras clases."
   ]
  },
  {
   "cell_type": "code",
   "execution_count": 9,
   "id": "57a16dc6",
   "metadata": {},
   "outputs": [],
   "source": [
    "class Motor:\n",
    "    def encender(self):\n",
    "        return \"Motor encendido\"\n",
    "\n",
    "class Auto:\n",
    "    def __init__(self):\n",
    "        self.motor = Motor()\n",
    "\n",
    "    def arrancar(self):\n",
    "        return self.motor.encender()"
   ]
  },
  {
   "cell_type": "markdown",
   "id": "a2d19701",
   "metadata": {},
   "source": [
    "___"
   ]
  },
  {
   "cell_type": "markdown",
   "id": "ddcf1429",
   "metadata": {},
   "source": [
    "#### 🧠 9. Ejercicio modular para tu notebook"
   ]
  },
  {
   "cell_type": "code",
   "execution_count": 10,
   "id": "12acea0e",
   "metadata": {},
   "outputs": [
    {
     "name": "stdout",
     "output_type": "stream",
     "text": [
      "{'nombre': 'Arca', 'correo': 'arca@example.com', 'tipo': 'Usuario'}\n"
     ]
    }
   ],
   "source": [
    "class Usuario:\n",
    "    def __init__(self, nombre, correo):\n",
    "        self.nombre = nombre\n",
    "        self.correo = correo\n",
    "\n",
    "    def mostrar_info(self):\n",
    "        return {\n",
    "            \"nombre\": self.nombre,\n",
    "            \"correo\": self.correo,\n",
    "            \"tipo\": type(self).__name__\n",
    "        }\n",
    "\n",
    "# Instancia\n",
    "u = Usuario(\"Arca\", \"arca@example.com\")\n",
    "print(u.mostrar_info())\n"
   ]
  }
 ],
 "metadata": {
  "kernelspec": {
   "display_name": "Python 3",
   "language": "python",
   "name": "python3"
  },
  "language_info": {
   "codemirror_mode": {
    "name": "ipython",
    "version": 3
   },
   "file_extension": ".py",
   "mimetype": "text/x-python",
   "name": "python",
   "nbconvert_exporter": "python",
   "pygments_lexer": "ipython3",
   "version": "3.11.9"
  }
 },
 "nbformat": 4,
 "nbformat_minor": 5
}
