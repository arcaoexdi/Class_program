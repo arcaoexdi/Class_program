{
 "cells": [
  {
   "cell_type": "markdown",
   "id": "27a55cd4",
   "metadata": {},
   "source": [
    "# 🧠 Celda 1: Fibonacci explicado con conejos 🐇\n",
    "\n",
    "## 🔹 Problema real\n",
    "\n",
    "Una pareja de conejos tiene una cría cada mes. Cada nueva pareja tarda **1 mes en crecer** y luego empieza a reproducirse.  \n",
    "¿Cuántas parejas hay después de 6 meses?\n",
    "\n",
    "---\n",
    "\n",
    "## 🔹 Razonamiento paso a paso\n",
    "\n",
    "| Mes | Parejas nuevas | Total de parejas | Explicación |\n",
    "|-----|----------------|------------------|-------------|\n",
    "| 1   | 1              | 1                | Solo la pareja inicial |\n",
    "| 2   | 0              | 1                | Aún no se reproducen |\n",
    "| 3   | 1              | 2                | La pareja inicial tiene una cría |\n",
    "| 4   | 1              | 3                | La pareja inicial tiene otra cría |\n",
    "| 5   | 2              | 5                | La nueva pareja del mes 3 también se reproduce |\n",
    "| 6   | 3              | 8                | Las parejas del mes 4 y 3 se reproducen |\n",
    "\n",
    "➡️ **Patrón:**  \n",
    "Cada mes, el número de parejas nuevas es igual al número de parejas que había **dos meses antes**.\n",
    "\n",
    "---\n",
    "\n",
    "## 🔹 Fórmula matemática\n",
    "\n",
    "La secuencia de Fibonacci se define como:\n",
    "\n",
    "F(n) = F(n-1) + F(n-2)\n",
    "\n",
    "\n",
    "Con condiciones iniciales:\n",
    "\n",
    "- F(1) = 1 \n",
    "- F(2) = 1"
   ]
  },
  {
   "cell_type": "code",
   "execution_count": 1,
   "id": "994ebb52",
   "metadata": {},
   "outputs": [
    {
     "name": "stdout",
     "output_type": "stream",
     "text": [
      "Parejas por mes: [1, 1, 2, 3, 5, 8]\n",
      "Total al mes 6: 8\n"
     ]
    }
   ],
   "source": [
    "# 🔹 Versión en Python\n",
    "\n",
    "def fibonacci(meses):\n",
    "    secuencia = [1, 1]\n",
    "    for i in range(2, meses):\n",
    "        siguiente = secuencia[i-1] + secuencia[i-2]\n",
    "        secuencia.append(siguiente)\n",
    "    return secuencia\n",
    "\n",
    "# Ejemplo: 6 meses\n",
    "parejas = fibonacci(6)\n",
    "print(\"Parejas por mes:\", parejas)\n",
    "print(\"Total al mes 6:\", parejas[-1])"
   ]
  },
  {
   "cell_type": "markdown",
   "id": "acecf733",
   "metadata": {},
   "source": [
    "## 🔹 Ejercicio para el lector\n",
    "\n",
    "- ¿Cuántas parejas habrá al mes 10?\n",
    "- ¿Qué pasaría si las parejas tardaran 2 meses en reproducirse?\n",
    "- ¿Puedes modificar el código para simular eso?\n",
    "\n",
    "---\n",
    "\n",
    "✅ Siguiente reto: Reparto justo de dulces entre niños con condiciones especiales.  \n",
    "¿Quieres que lo prepare como Celda 2?\n"
   ]
  },
  {
   "cell_type": "markdown",
   "id": "0825b144",
   "metadata": {},
   "source": []
  }
 ],
 "metadata": {
  "kernelspec": {
   "display_name": "Python 3",
   "language": "python",
   "name": "python3"
  },
  "language_info": {
   "codemirror_mode": {
    "name": "ipython",
    "version": 3
   },
   "file_extension": ".py",
   "mimetype": "text/x-python",
   "name": "python",
   "nbconvert_exporter": "python",
   "pygments_lexer": "ipython3",
   "version": "3.11.9"
  }
 },
 "nbformat": 4,
 "nbformat_minor": 5
}
