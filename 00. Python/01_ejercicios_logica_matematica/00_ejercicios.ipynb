{
 "cells": [
  {
   "cell_type": "markdown",
   "id": "27a55cd4",
   "metadata": {},
   "source": [
    "# 🧠 Celda 1: Fibonacci explicado con conejos 🐇\n",
    "\n",
    "## 🔹 Problema real\n",
    "\n",
    "Una pareja de conejos tiene una cría cada mes. Cada nueva pareja tarda **1 mes en crecer** y luego empieza a reproducirse.  \n",
    "¿Cuántas parejas hay después de 6 meses?\n",
    "\n",
    "---\n",
    "\n",
    "## 🔹 Razonamiento paso a paso\n",
    "\n",
    "| Mes | Parejas nuevas | Total de parejas | Explicación |\n",
    "|-----|----------------|------------------|-------------|\n",
    "| 1   | 1              | 1                | Solo la pareja inicial |\n",
    "| 2   | 0              | 1                | Aún no se reproducen |\n",
    "| 3   | 1              | 2                | La pareja inicial tiene una cría |\n",
    "| 4   | 1              | 3                | La pareja inicial tiene otra cría |\n",
    "| 5   | 2              | 5                | La nueva pareja del mes 3 también se reproduce |\n",
    "| 6   | 3              | 8                | Las parejas del mes 4 y 3 se reproducen |\n",
    "\n",
    "➡️ **Patrón:**  \n",
    "Cada mes, el número de parejas nuevas es igual al número de parejas que había **dos meses antes**.\n",
    "\n",
    "---\n",
    "\n",
    "## 🔹 Fórmula matemática\n",
    "\n",
    "La secuencia de Fibonacci se define como:\n",
    "\n",
    "F(n) = F(n-1) + F(n-2)\n",
    "\n",
    "\n",
    "Con condiciones iniciales:\n",
    "\n",
    "- F(1) = 1 \n",
    "- F(2) = 1"
   ]
  },
  {
   "cell_type": "code",
   "execution_count": null,
   "id": "994ebb52",
   "metadata": {},
   "outputs": [
    {
     "name": "stdout",
     "output_type": "stream",
     "text": [
      "Secuencia inicial: [1, 1]\n",
      "La iteracion range: 2\n",
      "Siguiente valor calculado: 2\n",
      "Secuencia actualizada: [1, 1, 2]\n",
      "La iteracion range: 3\n",
      "Siguiente valor calculado: 3\n",
      "Secuencia actualizada: [1, 1, 2, 3]\n",
      "La iteracion range: 4\n",
      "Siguiente valor calculado: 5\n",
      "Secuencia actualizada: [1, 1, 2, 3, 5]\n",
      "La iteracion range: 5\n",
      "Siguiente valor calculado: 8\n",
      "Secuencia actualizada: [1, 1, 2, 3, 5, 8]\n",
      "Parejas por mes: [1, 1, 2, 3, 5, 8]\n",
      "Parejas por mes: [1, 1, 2, 3, 5, 8]\n",
      "Total al mes 6: 8\n"
     ]
    }
   ],
   "source": [
    "# 🔹 Definimos una función llamada fibonacci que recibe un parámetro: meses\n",
    "# Este parámetro representa cuántos meses queremos simular el crecimiento de las parejas de conejos\n",
    "\n",
    "def fibonacci(meses):\n",
    "    \n",
    "    # 🔹 Inicializamos la lista 'secuencia' con los dos primeros valores de Fibonacci: [1, 1]\n",
    "    # Mes 1: una pareja inicial\n",
    "    # Mes 2: aún no se reproduce, sigue habiendo una pareja\n",
    "    secuencia = [1, 1] # Mes 1 y Mes 2\n",
    "    print(\"Secuencia inicial:\", secuencia)\n",
    "    \n",
    "    # 🔹 Usamos un bucle for que empieza en el mes 3 (índice 2) y termina en el mes indicado\n",
    "    # Esto simula el crecimiento mes a mes, calculando nuevas parejas\n",
    "    for i in range(2, meses):\n",
    "        print(\"La iteracion range:\", i)\n",
    "        \n",
    "        # 🔹 Calculamos el número de parejas nuevas en el mes actual\n",
    "        # Sumamos las parejas del mes anterior (i-1) y del mes antes de ese (i-2)\n",
    "        # Esto representa que las parejas que ya existían hace 2 meses ahora se reproducen\n",
    "        siguiente = secuencia[i-1] + secuencia[i-2]\n",
    "        print(\"Siguiente valor calculado:\", siguiente)\n",
    "        \n",
    "        # 🔹 Agregamos el resultado a la lista 'secuencia'\n",
    "        # Así vamos construyendo la secuencia completa mes a mes\n",
    "        secuencia.append(siguiente)\n",
    "        print(\"Secuencia actualizada:\", secuencia)\n",
    "        \n",
    "    return secuencia\n",
    "\n",
    "# 🔹 Llamamos a la función fibonacci con 6 meses como parámetro\n",
    "# Esto nos dará la evolución de las parejas de conejos durante 6 meses\n",
    "parejas = fibonacci(6)\n",
    "\n",
    "# 🔹 Imprimimos la lista completa de parejas por mes\n",
    "# Resultado esperado: [1, 1, 2, 3, 5, 8]\n",
    "print(\"Parejas por mes:\", parejas)\n",
    "\n",
    "# 🔹 Imprimimos el último valor de la lista, que representa el total de parejas al mes 6\n",
    "# Usamos parejas[-1] para acceder al último elemento\n",
    "print(\"Total al mes 6:\", parejas[-1])"
   ]
  },
  {
   "cell_type": "markdown",
   "id": "bcaf1f28",
   "metadata": {},
   "source": [
    "___"
   ]
  },
  {
   "cell_type": "markdown",
   "id": "acecf733",
   "metadata": {},
   "source": [
    "## 🔹 Ejercicio para el lector\n",
    "---\n",
    "\n",
    "- Desarrolla un algoritmo que permita adquieir una revista\n",
    "\n",
    "---"
   ]
  },
  {
   "cell_type": "code",
   "execution_count": 10,
   "id": "051ce8a6",
   "metadata": {},
   "outputs": [
    {
     "name": "stdout",
     "output_type": "stream",
     "text": [
      "La revista se encuentra en la tienda 1\n"
     ]
    }
   ],
   "source": [
    "# Tienda para adquisicion de una revista\n",
    "\n",
    "tienda_1 = ([])\n",
    "tienda_2 = ([])\n",
    "tienda_3 = ([])\n",
    "\n",
    "ingreso_revistas_tienda_1 = input(\"Registre nombre de revistas para tienda 1:\")\n",
    "tienda_1.append(ingreso_revistas_tienda_1)\n",
    "ingreso_revistas_tienda_2 = input(\"Registre nombre de revistas para tienda 2:\")\n",
    "tienda_2.append(ingreso_revistas_tienda_2)\n",
    "ingreso_revistas_tienda_3 = input(\"Registre nombre de revistas para tienda 3:\")\n",
    "tienda_3.append(ingreso_revistas_tienda_3)\n",
    "\n",
    "solicitud_revista = input(\"Ingrese el nombre de la revista que desea adquirir:\")\n",
    "\n",
    "if solicitud_revista in tienda_1:\n",
    "    print(\"La revista se encuentra en la tienda 1\")\n",
    "elif solicitud_revista in tienda_2:\n",
    "    print(\"La revista se encuentra en la tienda 2\")\n",
    "elif solicitud_revista in tienda_3:\n",
    "    print(\"La revista se encuentra en la tienda 3\")\n",
    "else:\n",
    "    print(\"La revista no se encuentra en ninguna tienda\")"
   ]
  },
  {
   "cell_type": "markdown",
   "id": "aeccbb57",
   "metadata": {},
   "source": [
    "---\n",
    "- Desarrolla un algoritmo que permita entrar a un casa que esta con llave\n",
    "\n",
    "---"
   ]
  },
  {
   "cell_type": "code",
   "execution_count": 12,
   "id": "7c3582dd",
   "metadata": {},
   "outputs": [
    {
     "name": "stdout",
     "output_type": "stream",
     "text": [
      "La puerta se ha abierto\n"
     ]
    }
   ],
   "source": [
    "def llave(casa, llave):\n",
    "    if llave == casa:\n",
    "        return \"La puerta se ha abierto\"\n",
    "    else:\n",
    "        return \"La puerta no se ha podido abrir\"\n",
    "    \n",
    "house = input(\"Ingrese el numero de la casa:\")\n",
    "password = input(\"Ingrese el numero de la llave:\")\n",
    "\n",
    "print(llave(house, password))"
   ]
  },
  {
   "cell_type": "markdown",
   "id": "4e0abf92",
   "metadata": {},
   "source": [
    "---\n",
    "- Ejercicios de logica matematica entre signos\n",
    "- 1. Ejercicio\n",
    "\n",
    "---"
   ]
  },
  {
   "cell_type": "code",
   "execution_count": 14,
   "id": "b8f56833",
   "metadata": {},
   "outputs": [
    {
     "name": "stdout",
     "output_type": "stream",
     "text": [
      "Variable de a: 10\n",
      "Variable de b: 20\n",
      "Variable de c: 10\n",
      "Variable de a2 10 + 15: 25\n",
      "Variable de b2 32 + 12: 20\n",
      "Variable de c2 10 * 10 igual a: 100\n"
     ]
    }
   ],
   "source": [
    "a = 10\n",
    "print(\"Variable de a:\", a)\n",
    "b = 20 \n",
    "print(\"Variable de b:\", b)\n",
    "c = 10\n",
    "print(\"Variable de c:\",c)\n",
    "a2 = a +15\n",
    "print(\"Variable de a2\", a, \"+ 15:\",a2)\n",
    "b2 = b + 12\n",
    "print(\"Variable de b2\", b2, \"+ 12:\",b)\n",
    "c2 = c * a\n",
    "print(\"Variable de c2\", c,\"*\", a, \"igual a:\", c2)"
   ]
  },
  {
   "cell_type": "markdown",
   "id": "6c3222a1",
   "metadata": {},
   "source": [
    "---\n",
    "- 2. Ejercicio\n",
    "\n",
    "---"
   ]
  },
  {
   "cell_type": "code",
   "execution_count": 16,
   "id": "2db184de",
   "metadata": {},
   "outputs": [
    {
     "name": "stdout",
     "output_type": "stream",
     "text": [
      "Variable de a: 3\n",
      "Variable de b: 5\n",
      "Variable de c: 10\n",
      "Variable de a2: 3\n",
      "Variable de b2: 3\n",
      "Variable de c2: 1\n",
      "Variable de a3: 10.5\n",
      "Variable de b3: 18.0\n",
      "Variable de c3: 46.5\n"
     ]
    }
   ],
   "source": [
    "a=3\n",
    "print(\"Variable de a:\", a)\n",
    "b=5\n",
    "print(\"Variable de b:\", b)\n",
    "c=10\n",
    "print(\"Variable de c:\", c)\n",
    "a2=a+b-5\n",
    "print(\"Variable de a2:\", a2)\n",
    "b2=a2+b-5\n",
    "print(\"Variable de b2:\", b2)\n",
    "c2=a2+b2-5\n",
    "print(\"Variable de c2:\", c2)\n",
    "a3=a2+5*b2/2\n",
    "print(\"Variable de a3:\", a3)\n",
    "b3=a3+5*b2/2\n",
    "print(\"Variable de b3:\", b3)\n",
    "c3=a3+b3*2\n",
    "print(\"Variable de c3:\", c3)\n"
   ]
  },
  {
   "cell_type": "markdown",
   "id": "364cdeba",
   "metadata": {},
   "source": [
    "---\n",
    "- 3. Ejercicio\n",
    "\n",
    "---"
   ]
  },
  {
   "cell_type": "code",
   "execution_count": 29,
   "id": "3a3d08c6",
   "metadata": {},
   "outputs": [
    {
     "name": "stdout",
     "output_type": "stream",
     "text": [
      "Variable de a: 10\n",
      "Variable de b: 5\n",
      "Variable de c: 10\n",
      "Variable de a2: 10 + 5 -5 = 10\n",
      "Variable de b2: 10 + 5 -5 = 10\n",
      "Variable de c2: 10 + 10 -5 = 15\n",
      "Variable de a3: 10 + 5 * 10 / 2 = 35.0\n",
      "Variable de b3: 35.0 + 5 * 10 / 2 = 60.0\n",
      "Variable de c3: 35.0 + 60.0 * 2 = 155.0\n"
     ]
    }
   ],
   "source": [
    "a=10\n",
    "print(\"Variable de a:\", a)\n",
    "b=5\n",
    "print(\"Variable de b:\", b)\n",
    "c=10\n",
    "print(\"Variable de c:\", c)\n",
    "a2=a+b-5\n",
    "print(\"Variable de a2:\",a,\"+\",b,\"-5 =\", a2)\n",
    "b2=a2+b-5\n",
    "print(\"Variable de b2:\",a2,\"+\",b,\"-5 =\", b2)\n",
    "c2=a2+b2-5\n",
    "print(\"Variable de c2:\", a2,\"+\",b2,\"-5 =\", c2)\n",
    "a3=a2+5*b2/2\n",
    "print(\"Variable de a3:\", a2,\"+ 5\",\"*\", b2, \"/ 2 =\", a3)\n",
    "b3=a3+5*b2/2\n",
    "print(\"Variable de b3:\", a3,\"+ 5 *\", b2, \"/ 2 =\" ,b3)\n",
    "c3=a3+b3*2\n",
    "print(\"Variable de c3:\", a3,\"+\",b3,\"* 2 =\",c3)"
   ]
  },
  {
   "cell_type": "code",
   "execution_count": null,
   "id": "2ebfab2a",
   "metadata": {},
   "outputs": [],
   "source": []
  }
 ],
 "metadata": {
  "kernelspec": {
   "display_name": "Python 3",
   "language": "python",
   "name": "python3"
  },
  "language_info": {
   "codemirror_mode": {
    "name": "ipython",
    "version": 3
   },
   "file_extension": ".py",
   "mimetype": "text/x-python",
   "name": "python",
   "nbconvert_exporter": "python",
   "pygments_lexer": "ipython3",
   "version": "3.11.9"
  }
 },
 "nbformat": 4,
 "nbformat_minor": 5
}
