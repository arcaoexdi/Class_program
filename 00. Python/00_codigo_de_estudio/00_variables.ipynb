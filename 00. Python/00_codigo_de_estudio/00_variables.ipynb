{
 "cells": [
  {
   "cell_type": "markdown",
   "id": "b7c1a1b7",
   "metadata": {},
   "source": [
    "# Declaración de variables"
   ]
  },
  {
   "cell_type": "markdown",
   "id": "96fd68a2",
   "metadata": {},
   "source": [
    "#### Estas son variables que solicitan un dato con valor de tipo entero"
   ]
  },
  {
   "cell_type": "code",
   "execution_count": 2,
   "id": "5f4d88e8",
   "metadata": {},
   "outputs": [
    {
     "name": "stdout",
     "output_type": "stream",
     "text": [
      "El valor almacenado en la variable primer_numero es: 89\n"
     ]
    }
   ],
   "source": [
    "primer_numero = int(input(\"Ingrese el numero para almacenarlo en la variable:\"))\n",
    "print(\"El valor almacenado en la variable primer_numero es:\", primer_numero)"
   ]
  },
  {
   "cell_type": "markdown",
   "id": "a9be4f54",
   "metadata": {},
   "source": [
    "___"
   ]
  },
  {
   "cell_type": "code",
   "execution_count": 3,
   "id": "629c8de5",
   "metadata": {},
   "outputs": [
    {
     "name": "stdout",
     "output_type": "stream",
     "text": [
      "El valor almacenado en la variable segundo numero es: 89\n"
     ]
    }
   ],
   "source": [
    "segundo_numero = int(input(\"Ingrese el segundo numero para almacenarlo en la variable:\"))\n",
    "print(\"El valor almacenado en la variable segundo numero es:\", segundo_numero)"
   ]
  },
  {
   "cell_type": "markdown",
   "id": "40065856",
   "metadata": {},
   "source": [
    "___"
   ]
  },
  {
   "cell_type": "code",
   "execution_count": 4,
   "id": "3c4e3791",
   "metadata": {},
   "outputs": [
    {
     "name": "stdout",
     "output_type": "stream",
     "text": [
      "La suma de las dos variables es: 178\n"
     ]
    }
   ],
   "source": [
    "suma = primer_numero + segundo_numero\n",
    "print(\"La suma de las dos variables es:\", suma)"
   ]
  },
  {
   "cell_type": "markdown",
   "id": "8437a180",
   "metadata": {},
   "source": [
    "___"
   ]
  },
  {
   "cell_type": "code",
   "execution_count": 5,
   "id": "60b4ab8a",
   "metadata": {},
   "outputs": [
    {
     "name": "stdout",
     "output_type": "stream",
     "text": [
      "El valor almacenado en la variable numero divisible es: 89\n"
     ]
    }
   ],
   "source": [
    "numero_divisible = int(input(\"Ingrese el numero a dividir:\"))\n",
    "print(\"El valor almacenado en la variable numero divisible es:\", numero_divisible)"
   ]
  },
  {
   "cell_type": "markdown",
   "id": "71c08a9a",
   "metadata": {},
   "source": [
    "___"
   ]
  },
  {
   "cell_type": "markdown",
   "id": "00ad6b2e",
   "metadata": {},
   "source": [
    "##### Impresión de variables donde se evidencian los resultados de las operaciones\n"
   ]
  },
  {
   "cell_type": "code",
   "execution_count": 8,
   "id": "4a295e48",
   "metadata": {},
   "outputs": [
    {
     "name": "stdout",
     "output_type": "stream",
     "text": [
      "El resultado de la suma de los numeros mas la division 89  es: 2.0\n"
     ]
    }
   ],
   "source": [
    "print(\"El resultado de la suma de los numeros mas la division\", numero_divisible, \" es:\", suma/numero_divisible)"
   ]
  },
  {
   "cell_type": "code",
   "execution_count": null,
   "id": "3aed4682",
   "metadata": {},
   "outputs": [],
   "source": []
  }
 ],
 "metadata": {
  "kernelspec": {
   "display_name": "Python 3",
   "language": "python",
   "name": "python3"
  },
  "language_info": {
   "codemirror_mode": {
    "name": "ipython",
    "version": 3
   },
   "file_extension": ".py",
   "mimetype": "text/x-python",
   "name": "python",
   "nbconvert_exporter": "python",
   "pygments_lexer": "ipython3",
   "version": "3.11.9"
  }
 },
 "nbformat": 4,
 "nbformat_minor": 5
}
