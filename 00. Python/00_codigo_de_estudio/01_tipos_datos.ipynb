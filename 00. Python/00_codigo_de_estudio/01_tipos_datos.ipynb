{
 "cells": [
  {
   "cell_type": "markdown",
   "id": "8cbf7376",
   "metadata": {},
   "source": [
    "# Tipos de datos en Python y conceptos claves\n",
    "## Tipos de datos basicos"
   ]
  },
  {
   "cell_type": "markdown",
   "id": "286245cd",
   "metadata": {},
   "source": [
    "___"
   ]
  },
  {
   "cell_type": "markdown",
   "id": "6f30b9a2",
   "metadata": {},
   "source": [
    "### - Dato ENTERO 🤖\n",
    "##### Es un dato que solo almacena numeros sin punto o coma, puden ser tanto pares como impares, siempre y cuando no contenga en si algun signo como punto(.) y coma(,)"
   ]
  },
  {
   "cell_type": "code",
   "execution_count": 1,
   "id": "9b43e41c",
   "metadata": {},
   "outputs": [
    {
     "name": "stdout",
     "output_type": "stream",
     "text": [
      "Este es un dato entero sin punto: 78 Donde no lleva decimales y es un numero exacto\n"
     ]
    }
   ],
   "source": [
    "# Solicitamos un dato de tipo entero para que se almacene como una variable de tipo entero\n",
    "solicitud_numero_entero = input(\"Ingrese un numero entero sin punto:\")\n",
    "# Convertimos el dato ingresado a tipo entero\n",
    "entero = int(solicitud_numero_entero)\n",
    "# Imprimimos el dato almacenado en la variable de tipo entero\n",
    "print(\"Este es un dato entero sin punto:\", entero, \"Donde no lleva decimales y es un numero exacto\")"
   ]
  },
  {
   "cell_type": "markdown",
   "id": "899498a6",
   "metadata": {},
   "source": [
    "___"
   ]
  },
  {
   "cell_type": "markdown",
   "id": "245cf1cd",
   "metadata": {},
   "source": [
    "### - Dato FLOTANTE 🤖\n",
    "##### Es un dato que almacena tanto datos enteros como flotantes, flotantes son aquellos que contienen numero con punto (.)"
   ]
  },
  {
   "cell_type": "code",
   "execution_count": 2,
   "id": "aee375ab",
   "metadata": {},
   "outputs": [
    {
     "name": "stdout",
     "output_type": "stream",
     "text": [
      "Este es un dato flotante:  89.9 con punto decimal\n"
     ]
    }
   ],
   "source": [
    "# Solicitamos un dato de tipo flotante para que se almence como una variable de tipo flotante\n",
    "flotante = input(\"Ingresa un numero flotante con punto, no con coma: \")\n",
    "# Convertimos el dato ingresado a tipo de dato flotante\n",
    "Conversion_flotante = float(flotante)\n",
    "# Imprimimos el dato almacenado en la variable de topo flotante\n",
    "print(\"Este es un dato flotante: \", Conversion_flotante, \"con punto decimal\")"
   ]
  },
  {
   "cell_type": "markdown",
   "id": "c55fe23a",
   "metadata": {},
   "source": [
    "___"
   ]
  },
  {
   "cell_type": "markdown",
   "id": "b1e07f74",
   "metadata": {},
   "source": [
    "#### - Dato CADENA DE TEXTO 🤖\n",
    "##### Es un dato que almacena solo texto, por ende se convierte en una cadena de texto"
   ]
  },
  {
   "cell_type": "code",
   "execution_count": 3,
   "id": "92ba3edd",
   "metadata": {},
   "outputs": [
    {
     "name": "stdout",
     "output_type": "stream",
     "text": [
      "Este es un dato tipo cadena proveniente de un string:  Sebastian\n"
     ]
    }
   ],
   "source": [
    "# Solicitamos un dato de tipo cadena de texto para que se almacene como una variable de tipo cadena\n",
    "cadena = input(\"Ingresa una cadena de texto: \")\n",
    "# Convertimos el dato ingresado a tipo de dato cadena con la funcion str()\n",
    "conversion_cadena = str(cadena)\n",
    "# Imorimimos el dato almacenado en la variable de tipo cadena\n",
    "print(\"Este es un dato tipo cadena proveniente de un string: \", conversion_cadena)"
   ]
  },
  {
   "cell_type": "markdown",
   "id": "3b51836e",
   "metadata": {},
   "source": [
    "___"
   ]
  },
  {
   "cell_type": "markdown",
   "id": "467377d0",
   "metadata": {},
   "source": [
    "#### - Dato BOOLEANO 🤖\n",
    "##### El dato booleano es aquel que solo puede tener dos valores, verdadero o falso\n",
    "##### Con base al dato, se pondera el valor booleano de la variable, veradero (True) o falso (False)"
   ]
  },
  {
   "cell_type": "code",
   "execution_count": 6,
   "id": "4b562afa",
   "metadata": {
    "vscode": {
     "languageId": "ruby"
    }
   },
   "outputs": [
    {
     "name": "stdout",
     "output_type": "stream",
     "text": [
      "Super falso\n"
     ]
    }
   ],
   "source": [
    "booleano = bool(False)\n",
    "# Si el dato booleano es verdadero, imprime el mensaje\n",
    "if booleano is False:\n",
    "    # Imprime el mensaje si el dato booleano es verdadero\n",
    "    print(\"Super falso\")\n",
    "# Si el dato booleano es falso, imprime el mensaje correspondiente\n",
    "else:\n",
    "    print(\"Esto es verdadero\")"
   ]
  },
  {
   "cell_type": "markdown",
   "id": "cfb1dd25",
   "metadata": {},
   "source": [
    "___"
   ]
  },
  {
   "cell_type": "markdown",
   "id": "7fe998a9",
   "metadata": {},
   "source": [
    "#### - Dato LISTA 🤖\n",
    "##### La lista almacena datos y las separa en comas cuando entre cada dato hay un espacio"
   ]
  },
  {
   "cell_type": "code",
   "execution_count": 6,
   "id": "b3723f8f",
   "metadata": {},
   "outputs": [
    {
     "name": "stdout",
     "output_type": "stream",
     "text": [
      "Este es un dato tipo lista: ['B', 'i', 'e', 'n']\n",
      "Lista actualizada: ['B', 'i', 'e', 'n', 'p', 'a', 'p', 'a']\n"
     ]
    }
   ],
   "source": [
    "# Paso 1: Pedir al usuario datos separados por espacios\n",
    "lista = input(\"Ingresa varios datos separados por espacios: \")\n",
    "\n",
    "# Paso 2: la funcion split() convierte una entrada en una lista la cual hace de los espacios separadores en comas (,) y el contenido lo agrega dentro de comillas ('')\n",
    "listas = lista.split()\n",
    "\n",
    "# Paso 3: Muetra la lista con los datos almacenados en la variable de lista, separados por comas y entre comillas cada paalabra o numero\n",
    "print(\"Este es un dato tipo lista:\", listas)\n",
    "\n",
    "# Paso 4: Permitir agregar más elementos\n",
    "agregacion_dato = input(\n",
    "    \"¿Quieres agregar otro dato? Escribe uno o varios separados por espacios: \"\n",
    ")\n",
    "# La lista se actualizado con el datos agregado, separados por comas y entre comillas cada palabra o numero\n",
    "listas += agregacion_dato.split()\n",
    "\n",
    "# Paso 5: Mostrar la lista actualizada\n",
    "print(\"Lista actualizada:\", listas)"
   ]
  },
  {
   "cell_type": "markdown",
   "id": "65e859ef",
   "metadata": {},
   "source": [
    "___"
   ]
  },
  {
   "cell_type": "markdown",
   "id": "8c5ed84c",
   "metadata": {},
   "source": [
    "#### - Dato DICCIONARIOS 🤖\n",
    "##### Los diccionarios, son un conjunto de datos, que al ser almacenados, se guardar como {'Clave': 'Valor'} tipo formato JSON"
   ]
  },
  {
   "cell_type": "code",
   "execution_count": 7,
   "id": "2074fa02",
   "metadata": {},
   "outputs": [
    {
     "name": "stdout",
     "output_type": "stream",
     "text": [
      "Diccionario unificado de terminos que se complementan entre si, en formato {'Clave': 'Valor'}: de la siguiente manera {'a': 'o', 'b': 'k', 'c': 'y'}\n"
     ]
    }
   ],
   "source": [
    "# Pedimos los datos y se almacenaran en las variables a, b y c\n",
    "a = input(\"Agrega una palabra o letra inicial: \")\n",
    "b = input(\"Agrega la segunda palabra o letra: \")\n",
    "c = input(\"Agrega por ultimo la ultima palabra o texto: \")\n",
    "\n",
    "# Creamos el diccionario con las variables de los datos ingresados por medio de a, b y c y son almacenados en el diccionario tipo dictado\n",
    "dictado = dict(a=a, b=b, c=c)\n",
    "\n",
    "# Imprimimos el dictado el cual es a su vez un diccionario con los datos anteriormente solicitados desde las variables a, b y c\n",
    "print(\n",
    "    \"Diccionario unificado de terminos que se complementan entre si, en formato {'Clave': 'Valor'}: de la siguiente manera\",\n",
    "    dictado,\n",
    ")\n"
   ]
  },
  {
   "cell_type": "markdown",
   "id": "cbba83e2",
   "metadata": {},
   "source": [
    "___"
   ]
  },
  {
   "cell_type": "markdown",
   "id": "2d8bc27f",
   "metadata": {},
   "source": [
    "#### - Dato TUPLA 🤖\n",
    "##### Los datos tipo tupla, son aquellos que se almacenan entre parentesis, dato unico y esta cada dato gurdado entre comillas (\"\") y separado por comas (,)\n"
   ]
  },
  {
   "cell_type": "code",
   "execution_count": 8,
   "id": "3b29a13d",
   "metadata": {},
   "outputs": [
    {
     "name": "stdout",
     "output_type": "stream",
     "text": [
      "Tupla con múltiples elementos separados por coma siempre y cuando haya un espacio entre las palabras, se realiza con la ayuda de la funcion (split): ('Hola', 'Hello', 'GoodAfternund', 'Hellow', 'Blue')\n"
     ]
    }
   ],
   "source": [
    "entrada = input(\"Ingresa varios datos separados por coma: \")\n",
    "solicitud_datos = tuple(entrada.split(\" \"))\n",
    "print(\"Tupla con múltiples elementos separados por coma siempre y cuando haya un espacio entre las palabras, se realiza con la ayuda de la funcion (split):\", solicitud_datos)\n"
   ]
  },
  {
   "cell_type": "markdown",
   "id": "643db9bf",
   "metadata": {},
   "source": [
    "___"
   ]
  },
  {
   "cell_type": "markdown",
   "id": "6beefe6c",
   "metadata": {},
   "source": [
    "#### - Dato CONJUNTO 🤖\n",
    "##### Los conjuntos se almacenan entre parentesis () y dentro de los parentesis, son seprados por comas y identifica los textos entre comillas dobles o siples y los numeros, sin el formato de comillas y solo se separan los datos con comas"
   ]
  },
  {
   "cell_type": "code",
   "execution_count": 9,
   "id": "843a3d34",
   "metadata": {},
   "outputs": [
    {
     "name": "stdout",
     "output_type": "stream",
     "text": [
      "Este es un dato tipo conjunto donde esta encerrado en llaves  {1, 'Hola mundo', 78}\n"
     ]
    }
   ],
   "source": [
    "conjunto = set([1, entero, \"Hola mundo\"])\n",
    "print(\"Este es un dato tipo conjunto donde esta encerrado en llaves \", conjunto)"
   ]
  },
  {
   "cell_type": "markdown",
   "id": "94ece235",
   "metadata": {},
   "source": [
    "___"
   ]
  },
  {
   "cell_type": "markdown",
   "id": "5d843cce",
   "metadata": {},
   "source": [
    "#### - Dato OPERADORES ARITMETICOS (+, -, /, *) 🤖\n",
    "##### Los conjuntos de datos aritmeticos son aquellos signos matematicos usados en operaciones, lo cuales son (+, -, *, /)."
   ]
  },
  {
   "cell_type": "code",
   "execution_count": 14,
   "id": "ef17d85b",
   "metadata": {},
   "outputs": [
    {
     "name": "stdout",
     "output_type": "stream",
     "text": [
      "Este es el resultado de la suma:  8\n",
      "Este es el resultado de la resta:  -2\n",
      "Este es el resultado de la multiplicacion:  15\n",
      "Este es el resultado de la division:  1.6666666666666667\n"
     ]
    }
   ],
   "source": [
    "suma = 5 + 3\n",
    "print(\"Este es el resultado de la suma: \", suma)\n",
    "\n",
    "resta = 5 - 7\n",
    "print(\"Este es el resultado de la resta: \", resta)\n",
    "\n",
    "multiplicacion = 5 * 3\n",
    "print(\"Este es el resultado de la multiplicacion: \", multiplicacion)\n",
    "\n",
    "division = 5 / 3\n",
    "print(\"Este es el resultado de la division: \", division)"
   ]
  },
  {
   "cell_type": "markdown",
   "id": "ed6e3226",
   "metadata": {},
   "source": [
    "___"
   ]
  },
  {
   "cell_type": "markdown",
   "id": "3db09e98",
   "metadata": {},
   "source": [
    "#### - Dato OPERADORES LOGICOS 🤖\n",
    "##### Son aquellos que son usados para realizar comparaciones de distintos resultados entre vaiedad de formas de datos"
   ]
  },
  {
   "cell_type": "code",
   "execution_count": 19,
   "id": "7f0dd310",
   "metadata": {},
   "outputs": [
    {
     "name": "stdout",
     "output_type": "stream",
     "text": [
      "LOGICOS\n",
      "Este es el resultado del operador AND:  -2\n",
      "Este es el resultado del operador OR:  8\n",
      "Este es el resultado del operador NOT:  False\n",
      " \n",
      "COMPARACION\n",
      "Este es el resultado del operador de comparacion igual:  False\n",
      "Este es el resultado del operador de comparacion de diferenciacion:  True\n",
      "Este es el resultado del operador de comparacion mayor:  True\n",
      "Este es el resultado del operador de comparacion menor:  False\n"
     ]
    }
   ],
   "source": [
    "print('LOGICOS')\n",
    "Y = suma and resta\n",
    "print(\"Este es el resultado del operador AND: \", Y)\n",
    "\n",
    "o = suma or resta\n",
    "print(\"Este es el resultado del operador OR: \", o)\n",
    "\n",
    "NO = not resta\n",
    "print(\"Este es el resultado del operador NOT: \", NO)\n",
    "\n",
    "print(' ')\n",
    "print('COMPARACION')\n",
    "igual = suma == resta\n",
    "print(\"Este es el resultado del operador de comparacion igual: \", igual)\n",
    "\n",
    "diferenciacion = suma != resta\n",
    "print(\"Este es el resultado del operador de comparacion de diferenciacion: \", diferenciacion)\n",
    "\n",
    "mayor = suma > resta\n",
    "print(\"Este es el resultado del operador de comparacion mayor: \", mayor)\n",
    "\n",
    "menor = suma < resta\n",
    "print(\"Este es el resultado del operador de comparacion menor: \", menor)"
   ]
  },
  {
   "cell_type": "markdown",
   "id": "6a62c69d",
   "metadata": {},
   "source": [
    "___"
   ]
  },
  {
   "cell_type": "markdown",
   "id": "d52bb50a",
   "metadata": {},
   "source": [
    "#### - Dato FUNCIONES 🤖\n",
    "##### Las funciones son usadas para reciclar codigo, reutilizar codigo y optimizar algun paso que sea repetitivo"
   ]
  },
  {
   "cell_type": "code",
   "execution_count": 20,
   "id": "a5e979ec",
   "metadata": {},
   "outputs": [
    {
     "name": "stdout",
     "output_type": "stream",
     "text": [
      "Saludando a: Pacheco\n",
      "Hola, Pacheco\n"
     ]
    }
   ],
   "source": [
    "def saludar(nombre):\n",
    "    print(\"Saludando a:\", nombre)\n",
    "    return f\"Hola, {nombre}\"\n",
    "\n",
    "saludo = saludar(input(\"Ingrese su nombre: \"))\n",
    "print(saludo)"
   ]
  },
  {
   "cell_type": "code",
   "execution_count": 21,
   "id": "a8c2b8fa",
   "metadata": {},
   "outputs": [
    {
     "name": "stdout",
     "output_type": "stream",
     "text": [
      "El resultado de la suma es: 145\n"
     ]
    }
   ],
   "source": [
    "def sumando(primer_parametro, segundo_parametro):\n",
    "    return primer_parametro + segundo_parametro\n",
    "\n",
    "solicitud_de_parametros = input(\"Ingrese dos numeros separados por espacio: \").split()\n",
    "resultado = sumando(int(solicitud_de_parametros[0]), int(solicitud_de_parametros[1]))\n",
    "print(\"El resultado de la suma es:\", resultado)"
   ]
  },
  {
   "cell_type": "markdown",
   "id": "62db0fed",
   "metadata": {},
   "source": [
    "___"
   ]
  },
  {
   "cell_type": "markdown",
   "id": "2ec3656e",
   "metadata": {},
   "source": [
    "#### - Dato MANEJO DE ERRORES 🤖\n",
    "##### Los manejos de errores, son usados para cuando no se cumple el orden de alguna funcion, o no se almacena de manera correcta algun tipo de dato en especial que ya esta parametrizada la manera en la que se debe de almacenar"
   ]
  },
  {
   "cell_type": "markdown",
   "id": "c8263035",
   "metadata": {},
   "source": [
    "###### 📚 Modularidad "
   ]
  },
  {
   "cell_type": "code",
   "execution_count": 11,
   "id": "7e893d7b",
   "metadata": {},
   "outputs": [
    {
     "name": "stdout",
     "output_type": "stream",
     "text": [
      "Ejecucion finalizada Error: Division por cero\n"
     ]
    }
   ],
   "source": [
    "import math as m  # noqa: E402\n",
    "\n",
    "try:\n",
    "    primer_numero_divisible = input(\"Ingresa un numero para dividir 10: \")\n",
    "    segundo_numero_divisible = input(\"Ingresa otro numero para dividir 10: \")\n",
    "    resultado = int(primer_numero_divisible) / int(segundo_numero_divisible)\n",
    "except ZeroDivisionError:\n",
    "    resultado = \"Error: Division por cero\"\n",
    "finally:\n",
    "    print(\"Ejecucion finalizada\", resultado)"
   ]
  },
  {
   "cell_type": "markdown",
   "id": "826c255a",
   "metadata": {},
   "source": [
    "###### 📚 Raiz Cuadrada"
   ]
  },
  {
   "cell_type": "code",
   "execution_count": 35,
   "id": "efef70dd",
   "metadata": {},
   "outputs": [
    {
     "name": "stdout",
     "output_type": "stream",
     "text": [
      "La raiz cuadrada de {'89'} es: 9.433981132056603\n"
     ]
    }
   ],
   "source": [
    "numero_raiz = input(\"Ingresa un numero para calcular su raiz cuadrada: \")\n",
    "raiz_cuadrada = m.sqrt(int(numero_raiz))\n",
    "print(\"La raiz cuadrada de\", {numero_raiz} ,\"es:\", raiz_cuadrada)"
   ]
  },
  {
   "cell_type": "markdown",
   "id": "26979578",
   "metadata": {},
   "source": [
    "___"
   ]
  },
  {
   "cell_type": "markdown",
   "id": "774d9204",
   "metadata": {},
   "source": [
    "#### - Dato CONDICIONALES 🤖\n",
    "##### Las condicionales como (IF, ELSE, ELIF, FOR, WHILE), son usadas para hacer que se cumpla una funcion o una tarea dependiendo de algun paso en especifico que haga o no que la tarea o la accion se lleve a cabo"
   ]
  },
  {
   "cell_type": "markdown",
   "id": "047a7b58",
   "metadata": {},
   "source": [
    "##### 🔰 IF - ELIF - ELSE"
   ]
  },
  {
   "cell_type": "code",
   "execution_count": 18,
   "id": "11c4a98f",
   "metadata": {},
   "outputs": [
    {
     "name": "stdout",
     "output_type": "stream",
     "text": [
      "Si son iguales, imprime: Ambos numeros son iguales\n"
     ]
    }
   ],
   "source": [
    "numero1 = int(input(\"Ingresa un numero para la suma: \"))\n",
    "numero2 = int(input(\"Ingresa un numero para la resta: \"))\n",
    "\n",
    "if numero1 > numero2:\n",
    "    resultado1 = \"El numero es mayor\"\n",
    "    print(\"Si es mayor, imprime:\", resultado1)\n",
    "elif numero1 < numero2:\n",
    "    resultado2 = \"El numero es menor\"\n",
    "    print(\"Si es menor, imprime:\", resultado2)\n",
    "else:\n",
    "    resultado3 = \"Ambos numeros son iguales\"\n",
    "    print(\"Si son iguales, imprime:\", resultado3)"
   ]
  },
  {
   "cell_type": "markdown",
   "id": "426e37f0",
   "metadata": {},
   "source": [
    "____"
   ]
  },
  {
   "cell_type": "markdown",
   "id": "98ef23f5",
   "metadata": {},
   "source": [
    "##### 🔰 ITERACION DE FOR"
   ]
  },
  {
   "cell_type": "code",
   "execution_count": 23,
   "id": "6e47816b",
   "metadata": {},
   "outputs": [
    {
     "name": "stdout",
     "output_type": "stream",
     "text": [
      "Encontramos  0  iteración\n",
      "Encontramos  1  iteración\n",
      "Encontramos  2  iteración\n",
      "Encontramos  3  iteración\n",
      "Encontramos  4  iteración\n",
      "Encontramos  5  iteración\n",
      "Encontramos  6  iteración\n",
      "Encontramos  7  iteración\n",
      "Encontramos  8  iteración\n",
      "Encontramos  9  iteración\n"
     ]
    }
   ],
   "source": [
    "ingreso_datos = input(\"Ingresa un dato para iniciar la iteracion: \")\n",
    "for ingreso_datos in range(10):\n",
    "    datos = ingreso_datos\n",
    "    print(\"Encontramos \", datos, \" iteración\")"
   ]
  },
  {
   "cell_type": "markdown",
   "id": "4ef12cfa",
   "metadata": {},
   "source": [
    "___"
   ]
  },
  {
   "cell_type": "markdown",
   "id": "93c579b3",
   "metadata": {},
   "source": [
    "##### 🔰 WHILE"
   ]
  },
  {
   "cell_type": "code",
   "execution_count": 27,
   "id": "432124bb",
   "metadata": {},
   "outputs": [
    {
     "name": "stdout",
     "output_type": "stream",
     "text": [
      "Al iterar sobre {9} encontramos el primer numero:  0\n",
      "Al iterar sobre {9} encontramos el primer numero:  1\n",
      "Al iterar sobre {9} encontramos el primer numero:  2\n",
      "Al iterar sobre {9} encontramos el primer numero:  3\n",
      "Al iterar sobre {9} encontramos el primer numero:  4\n",
      "Al iterar sobre {9} encontramos el primer numero:  5\n",
      "Al iterar sobre {9} encontramos el primer numero:  6\n",
      "Al iterar sobre {9} encontramos el primer numero:  7\n",
      "Al iterar sobre {9} encontramos el primer numero:  8\n",
      "Contador ha llegado a  {9} saliendo del bucle\n"
     ]
    }
   ],
   "source": [
    "contador = 0\n",
    "numero_limite = int(input(\"Ingresa un numero limite para el contador: \"))\n",
    "\n",
    "while contador < numero_limite:\n",
    "    print(\"Al iterar sobre\", {numero_limite} ,\"encontramos el primer numero: \", contador)\n",
    "    contador += 1\n",
    "    \n",
    "    if contador == numero_limite:\n",
    "        print(\"Contador ha llegado a \", {contador} ,\"saliendo del bucle\")\n",
    "        break"
   ]
  },
  {
   "cell_type": "code",
   "execution_count": null,
   "id": "4d2cccd3",
   "metadata": {},
   "outputs": [],
   "source": []
  }
 ],
 "metadata": {
  "kernelspec": {
   "display_name": "Python 3",
   "language": "python",
   "name": "python3"
  },
  "language_info": {
   "codemirror_mode": {
    "name": "ipython",
    "version": 3
   },
   "file_extension": ".py",
   "mimetype": "text/x-python",
   "name": "python",
   "nbconvert_exporter": "python",
   "pygments_lexer": "ipython3",
   "version": "3.11.9"
  }
 },
 "nbformat": 4,
 "nbformat_minor": 5
}
